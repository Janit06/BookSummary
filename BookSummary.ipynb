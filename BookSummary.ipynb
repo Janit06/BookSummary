{
  "nbformat": 4,
  "nbformat_minor": 0,
  "metadata": {
    "colab": {
      "provenance": []
    },
    "kernelspec": {
      "name": "python3",
      "display_name": "Python 3"
    },
    "language_info": {
      "name": "python"
    }
  },
  "cells": [
    {
      "cell_type": "code",
      "execution_count": 1,
      "metadata": {
        "colab": {
          "base_uri": "https://localhost:8080/"
        },
        "id": "nIEq7Qw-cqLm",
        "outputId": "460e93a6-d93b-49b0-ef7c-7e71f00a2550"
      },
      "outputs": [
        {
          "output_type": "stream",
          "name": "stdout",
          "text": [
            "\u001b[2K     \u001b[90m━━━━━━━━━━━━━━━━━━━━━━━━━━━━━━━━━━━━━━━━\u001b[0m \u001b[32m44.3/44.3 kB\u001b[0m \u001b[31m1.7 MB/s\u001b[0m eta \u001b[36m0:00:00\u001b[0m\n",
            "\u001b[2K   \u001b[90m━━━━━━━━━━━━━━━━━━━━━━━━━━━━━━━━━━━━━━━━\u001b[0m \u001b[32m10.1/10.1 MB\u001b[0m \u001b[31m64.9 MB/s\u001b[0m eta \u001b[36m0:00:00\u001b[0m\n",
            "\u001b[2K   \u001b[90m━━━━━━━━━━━━━━━━━━━━━━━━━━━━━━━━━━━━━━━━\u001b[0m \u001b[32m24.1/24.1 MB\u001b[0m \u001b[31m50.0 MB/s\u001b[0m eta \u001b[36m0:00:00\u001b[0m\n",
            "\u001b[2K   \u001b[90m━━━━━━━━━━━━━━━━━━━━━━━━━━━━━━━━━━━━━━━━\u001b[0m \u001b[32m6.9/6.9 MB\u001b[0m \u001b[31m69.3 MB/s\u001b[0m eta \u001b[36m0:00:00\u001b[0m\n",
            "\u001b[2K   \u001b[90m━━━━━━━━━━━━━━━━━━━━━━━━━━━━━━━━━━━━━━━━\u001b[0m \u001b[32m79.1/79.1 kB\u001b[0m \u001b[31m6.7 MB/s\u001b[0m eta \u001b[36m0:00:00\u001b[0m\n",
            "\u001b[?25h"
          ]
        }
      ],
      "source": [
        "!pip install -q streamlit pyngrok google-generativeai PyMuPDF\n"
      ]
    },
    {
      "cell_type": "code",
      "source": [
        "from getpass import getpass\n",
        "import google.generativeai as genai\n",
        "from pyngrok import conf\n",
        "\n",
        "GEMINI_KEY   = getpass(\"Gemini API key: \")\n",
        "NGROK_TOKEN  = getpass(\"ngrok authtoken: \")\n",
        "\n",
        "# keep Gemini key only in RAM\n",
        "genai.configure(api_key=GEMINI_KEY)\n",
        "\n",
        "# register the ngrok token in‑memory (no YAML file written)\n",
        "conf.get_default().auth_token = NGROK_TOKEN\n",
        "\n",
        "# make the key visible to the Streamlit subprocess only\n",
        "import os, textwrap, subprocess, json, time, pathlib\n",
        "os.environ[\"GOOGLE_API_KEY\"] = GEMINI_KEY\n"
      ],
      "metadata": {
        "colab": {
          "base_uri": "https://localhost:8080/"
        },
        "id": "OqVkzqeocxZu",
        "outputId": "5b905521-5b35-4f40-e11f-809c51932b06"
      },
      "execution_count": 2,
      "outputs": [
        {
          "name": "stdout",
          "output_type": "stream",
          "text": [
            "Gemini API key: ··········\n",
            "ngrok authtoken: ··········\n"
          ]
        }
      ]
    },
    {
      "cell_type": "code",
      "source": [
        "app_code = \"\"\"\n",
        "import streamlit as st, fitz, google.generativeai as genai, os, re\n",
        "\n",
        "genai.configure(api_key=os.environ['GOOGLE_API_KEY'])\n",
        "model = genai.GenerativeModel(\"models/gemini-1.5-flash\")\n",
        "\n",
        "def pdf_to_chapters(file):\n",
        "    doc = fitz.open(stream=file.read(), filetype='pdf')\n",
        "    text = ''.join(p.get_text() for p in doc)\n",
        "    # naive splitter – adjust if your PDFs have different headers\n",
        "    chapters = re.split(r'\\\\n\\\\s*(?:CHAPTER|Chapter|chapter)\\\\s+\\\\d+.*', text)\n",
        "    return [c.strip() for c in chapters if len(c.strip()) > 100]\n",
        "\n",
        "def summarize(chapter):\n",
        "    prompt = f\\\"\\\"\\\"Summarize the chapter below, list 3‑5 key insights,\n",
        "    and create 5 flashcards (Q&A).  Output must follow this template:\n",
        "\n",
        "    ### Summary:\n",
        "    ...\n",
        "    ### Key Insights:\n",
        "    1. ...\n",
        "    ### Flashcards:\n",
        "    Q: ...\n",
        "    A: ...\n",
        "    Chapter:\n",
        "    {chapter[:4000]}\n",
        "    \\\"\\\"\\\"\n",
        "    return model.generate_content(prompt).text\n",
        "\n",
        "st.title(\"📚 Gemini Book Summarizer + Flashcards\")\n",
        "pdf = st.file_uploader(\"Upload a PDF book\", type=\"pdf\")\n",
        "\n",
        "if pdf:\n",
        "    st.info(\"Extracting chapters…\")\n",
        "    chapters = pdf_to_chapters(pdf)\n",
        "    st.success(f\"Found {len(chapters)} chapters\")\n",
        "    picks = st.multiselect(\"Select chapters to summarise\",\n",
        "                           range(1, len(chapters)+1), default=[1])\n",
        "\n",
        "    if st.button(\"Generate\"):\n",
        "        full = []\n",
        "        for i in picks:\n",
        "            st.subheader(f\"Chapter {i}\")\n",
        "            with st.spinner(\"Gemini is thinking…\"):\n",
        "                out = summarize(chapters[i-1])\n",
        "            st.markdown(out)\n",
        "            full.append(f\"### Chapter {i}\\\\n{out}\")\n",
        "        st.download_button(\"💾 Download all\", '\\\\n\\\\n'.join(full),\n",
        "                           file_name=\"summaries.txt\")\n",
        "\"\"\"\n",
        "pathlib.Path(\"app.py\").write_text(app_code)\n"
      ],
      "metadata": {
        "colab": {
          "base_uri": "https://localhost:8080/"
        },
        "id": "g_ZqliaFdDB9",
        "outputId": "8516bb85-0b2d-4688-a9ef-08d20a29ec47"
      },
      "execution_count": 7,
      "outputs": [
        {
          "output_type": "execute_result",
          "data": {
            "text/plain": [
              "1645"
            ]
          },
          "metadata": {},
          "execution_count": 7
        }
      ]
    },
    {
      "cell_type": "code",
      "source": [
        "from pyngrok import ngrok, conf\n",
        "import subprocess, time, os, signal, sys, contextlib, pathlib, json\n",
        "\n",
        "# kill stray tunnels if any\n",
        "ngrok.kill()\n",
        "\n",
        "# start Streamlit in the background (quiet logs → logs.txt)\n",
        "proc = subprocess.Popen(\n",
        "    [\"streamlit\", \"run\", \"app.py\", \"--server.headless=true\"],\n",
        "    stdout=subprocess.DEVNULL, stderr=subprocess.STDOUT\n",
        ")\n",
        "\n",
        "# wait a moment for Streamlit to boot\n",
        "time.sleep(5)\n",
        "\n",
        "# expose port 8501\n",
        "public_url = ngrok.connect(8501)\n",
        "print(\"🌐 Open your app →\", public_url)\n"
      ],
      "metadata": {
        "colab": {
          "base_uri": "https://localhost:8080/"
        },
        "id": "0KVt3Z8IdIIX",
        "outputId": "98f3cbe0-d269-444e-cbf5-e79415d40f85"
      },
      "execution_count": 8,
      "outputs": [
        {
          "output_type": "stream",
          "name": "stdout",
          "text": [
            "🌐 Open your app → NgrokTunnel: \"https://1a4b-34-21-93-189.ngrok-free.app\" -> \"http://localhost:8501\"\n"
          ]
        }
      ]
    }
  ]
}